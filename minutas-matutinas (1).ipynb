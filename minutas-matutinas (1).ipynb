{
 "cells": [
  {
   "cell_type": "markdown",
   "metadata": {},
   "source": [
    "# Conferencia de Prensa Matutina"
   ]
  },
  {
   "cell_type": "code",
   "execution_count": 38,
   "metadata": {},
   "outputs": [],
   "source": [
    "import re\n",
    "import pickle\n",
    "import pandas as pd\n",
    "from unidecode import unidecode # pip install\n",
    "from requests_html import HTMLSession\n",
    "from tqdm.notebook import tqdm "
   ]
  },
  {
   "cell_type": "markdown",
   "metadata": {},
   "source": [
    "# Parte 1: Haciendo una primera llamada a la página"
   ]
  },
  {
   "cell_type": "code",
   "execution_count": 43,
   "metadata": {},
   "outputs": [],
   "source": [
    "url = \"https://lopezobrador.org.mx/transcripciones/\"\n",
    "with HTMLSession() as sess:\n",
    "    r = sess.get(url)"
   ]
  },
  {
   "cell_type": "code",
   "execution_count": 47,
   "metadata": {},
   "outputs": [
    {
     "data": {
      "text/plain": [
       "6"
      ]
     },
     "execution_count": 47,
     "metadata": {},
     "output_type": "execute_result"
    }
   ],
   "source": [
    "len(r.html.find(\"article\"))"
   ]
  },
  {
   "cell_type": "code",
   "execution_count": 66,
   "metadata": {},
   "outputs": [],
   "source": [
    "def extract_articles(sess, page):\n",
    "    \"\"\"\n",
    "    Extrae todos los artículos de la página `page`\n",
    "    \"\"\"\n",
    "    url = f\"https://lopezobrador.org.mx/transcripciones/page/{page}/\"\n",
    "    r = sess.get(url)\n",
    "    articles = r.html.find(\"article\")\n",
    "    return articles"
   ]
  },
  {
   "cell_type": "code",
   "execution_count": 73,
   "metadata": {},
   "outputs": [
    {
     "data": {
      "application/vnd.jupyter.widget-view+json": {
       "model_id": "2a2bbaa21c924a0c9cec9a498b9d916f",
       "version_major": 2,
       "version_minor": 0
      },
      "text/plain": [
       "HBox(children=(FloatProgress(value=0.0, max=50.0), HTML(value='')))"
      ]
     },
     "metadata": {},
     "output_type": "display_data"
    },
    {
     "name": "stdout",
     "output_type": "stream",
     "text": [
      "\n"
     ]
    }
   ],
   "source": [
    "from time import sleep\n",
    "\n",
    "all_articles = []\n",
    "\n",
    "with HTMLSession() as sess:\n",
    "    for page in tqdm(range(1, 51)):\n",
    "        articles = extract_articles(sess, page)\n",
    "        all_articles.extend(articles)\n",
    "        sleep(0.5)"
   ]
  },
  {
   "cell_type": "code",
   "execution_count": 74,
   "metadata": {},
   "outputs": [
    {
     "data": {
      "text/plain": [
       "300"
      ]
     },
     "execution_count": 74,
     "metadata": {},
     "output_type": "execute_result"
    }
   ],
   "source": [
    "len(all_articles)"
   ]
  },
  {
   "cell_type": "code",
   "execution_count": 79,
   "metadata": {},
   "outputs": [
    {
     "name": "stdout",
     "output_type": "stream",
     "text": [
      "https://lopezobrador.org.mx/transcripciones/\n"
     ]
    }
   ],
   "source": [
    "print(url)"
   ]
  },
  {
   "cell_type": "markdown",
   "metadata": {},
   "source": [
    "## Paso 2: analizando un articulo\n",
    "\n",
    "Extraer:\n",
    "* url:\n",
    "* title\n",
    "* fecha\n",
    "* author"
   ]
  },
  {
   "cell_type": "code",
   "execution_count": null,
   "metadata": {},
   "outputs": [],
   "source": [
    "article = all_articles[0]\n",
    "\n",
    "class_title = \"h2[class='entry-title']\"\n",
    "class_date = \"span[class='entry-date']\"\n",
    "class_author = \"span[class='entry-author']\""
   ]
  },
  {
   "cell_type": "code",
   "execution_count": 184,
   "metadata": {},
   "outputs": [],
   "source": [
    "url_article, *_ = article.find(class_title, first=True).absolute_links\n",
    "title = article.find(class_title, first=True).text\n",
    "date_str = article.find(class_date, first=True).text\n",
    "author = article.find(class_author, first=True).text"
   ]
  },
  {
   "cell_type": "code",
   "execution_count": null,
   "metadata": {},
   "outputs": [],
   "source": [
    "datetime.strptime() # string parse time -> datetime\n",
    "datetime.strftime() # string format time -> str"
   ]
  },
  {
   "cell_type": "code",
   "execution_count": 121,
   "metadata": {},
   "outputs": [
    {
     "data": {
      "text/plain": [
       "'February 27, 2020'"
      ]
     },
     "execution_count": 121,
     "metadata": {},
     "output_type": "execute_result"
    }
   ],
   "source": [
    "datetime.today().strftime(\"%B %d, %Y\")"
   ]
  },
  {
   "cell_type": "code",
   "execution_count": 122,
   "metadata": {},
   "outputs": [
    {
     "data": {
      "text/plain": [
       "'es_ES.UTF-8'"
      ]
     },
     "execution_count": 122,
     "metadata": {},
     "output_type": "execute_result"
    }
   ],
   "source": [
    "import locale\n",
    "locale.setlocale(locale.LC_TIME, \"es_ES.UTF-8\")"
   ]
  },
  {
   "cell_type": "code",
   "execution_count": 126,
   "metadata": {},
   "outputs": [],
   "source": [
    "date = datetime.strptime(date_str, \"%B %d, %Y\")"
   ]
  },
  {
   "cell_type": "code",
   "execution_count": 130,
   "metadata": {},
   "outputs": [],
   "source": [
    "import antigravity"
   ]
  },
  {
   "cell_type": "code",
   "execution_count": 186,
   "metadata": {},
   "outputs": [],
   "source": [
    "def extract_info(article):\n",
    "    class_title = \"h2[class='entry-title']\"\n",
    "    class_date = \"span[class='entry-date']\"\n",
    "    class_author = \"span[class='entry-author']\"\n",
    "    \n",
    "    url_article, *_ = article.find(class_title, first=True).absolute_links\n",
    "    title = article.find(class_title, first=True).text\n",
    "    date_str = article.find(class_date, first=True).text\n",
    "    author = article.find(class_author, first=True).text\n",
    "    date = datetime.strptime(date_str, \"%B %d, %Y\")\n",
    "    id_article = article.attrs[\"id\"].lstrip(\"post-\")\n",
    "    \n",
    "    return {\n",
    "        \"id\": id_article,\n",
    "        \"date\": date,\n",
    "        \"title\": title,\n",
    "        \"author\": author,\n",
    "        \"url\": url_article\n",
    "    }"
   ]
  },
  {
   "cell_type": "code",
   "execution_count": 187,
   "metadata": {},
   "outputs": [
    {
     "data": {
      "text/plain": [
       "{'id': '120292',\n",
       " 'date': datetime.datetime(2019, 8, 8, 0, 0),\n",
       " 'title': 'Versión estenográfica. Diálogo con la comunidad del Hospital Rural Rodeo, en Durango',\n",
       " 'author': 'by\\xa0raul',\n",
       " 'url': 'https://lopezobrador.org.mx/2019/08/08/version-estenografica-dialogo-con-la-comunidad-del-hospital-rural-rodeo-en-durango/'}"
      ]
     },
     "execution_count": 187,
     "metadata": {},
     "output_type": "execute_result"
    }
   ],
   "source": [
    "extract_info(article)"
   ]
  },
  {
   "cell_type": "code",
   "execution_count": 188,
   "metadata": {},
   "outputs": [
    {
     "data": {
      "text/plain": [
       "'1.0.1'"
      ]
     },
     "execution_count": 188,
     "metadata": {},
     "output_type": "execute_result"
    }
   ],
   "source": [
    "pd.__version__"
   ]
  },
  {
   "cell_type": "code",
   "execution_count": 189,
   "metadata": {},
   "outputs": [
    {
     "data": {
      "text/html": [
       "<div>\n",
       "<style scoped>\n",
       "    .dataframe tbody tr th:only-of-type {\n",
       "        vertical-align: middle;\n",
       "    }\n",
       "\n",
       "    .dataframe tbody tr th {\n",
       "        vertical-align: top;\n",
       "    }\n",
       "\n",
       "    .dataframe thead th {\n",
       "        text-align: right;\n",
       "    }\n",
       "</style>\n",
       "<table border=\"1\" class=\"dataframe\">\n",
       "  <thead>\n",
       "    <tr style=\"text-align: right;\">\n",
       "      <th></th>\n",
       "      <th>date</th>\n",
       "      <th>title</th>\n",
       "      <th>author</th>\n",
       "      <th>url</th>\n",
       "    </tr>\n",
       "    <tr>\n",
       "      <th>id</th>\n",
       "      <th></th>\n",
       "      <th></th>\n",
       "      <th></th>\n",
       "      <th></th>\n",
       "    </tr>\n",
       "  </thead>\n",
       "  <tbody>\n",
       "    <tr>\n",
       "      <th>129025</th>\n",
       "      <td>2020-02-27</td>\n",
       "      <td>Versión estenográfica de la conferencia de pre...</td>\n",
       "      <td>by raul</td>\n",
       "      <td>https://lopezobrador.org.mx/2020/02/27/version...</td>\n",
       "    </tr>\n",
       "    <tr>\n",
       "      <th>128982</th>\n",
       "      <td>2020-02-26</td>\n",
       "      <td>Versión estenográfica de la conferencia de pre...</td>\n",
       "      <td>by raul</td>\n",
       "      <td>https://lopezobrador.org.mx/2020/02/26/version...</td>\n",
       "    </tr>\n",
       "    <tr>\n",
       "      <th>128954</th>\n",
       "      <td>2020-02-25</td>\n",
       "      <td>Versión estenográfica de la conferencia de pre...</td>\n",
       "      <td>by raul</td>\n",
       "      <td>https://lopezobrador.org.mx/2020/02/25/version...</td>\n",
       "    </tr>\n",
       "    <tr>\n",
       "      <th>128908</th>\n",
       "      <td>2020-02-24</td>\n",
       "      <td>Versión estenográfica. Día de la Bandera, en C...</td>\n",
       "      <td>by raul</td>\n",
       "      <td>https://lopezobrador.org.mx/2020/02/24/version...</td>\n",
       "    </tr>\n",
       "    <tr>\n",
       "      <th>128904</th>\n",
       "      <td>2020-02-24</td>\n",
       "      <td>Versión estenográfica de la conferencia de pre...</td>\n",
       "      <td>by raul</td>\n",
       "      <td>https://lopezobrador.org.mx/2020/02/24/version...</td>\n",
       "    </tr>\n",
       "  </tbody>\n",
       "</table>\n",
       "</div>"
      ],
      "text/plain": [
       "             date                                              title   author  \\\n",
       "id                                                                              \n",
       "129025 2020-02-27  Versión estenográfica de la conferencia de pre...  by raul   \n",
       "128982 2020-02-26  Versión estenográfica de la conferencia de pre...  by raul   \n",
       "128954 2020-02-25  Versión estenográfica de la conferencia de pre...  by raul   \n",
       "128908 2020-02-24  Versión estenográfica. Día de la Bandera, en C...  by raul   \n",
       "128904 2020-02-24  Versión estenográfica de la conferencia de pre...  by raul   \n",
       "\n",
       "                                                      url  \n",
       "id                                                         \n",
       "129025  https://lopezobrador.org.mx/2020/02/27/version...  \n",
       "128982  https://lopezobrador.org.mx/2020/02/26/version...  \n",
       "128954  https://lopezobrador.org.mx/2020/02/25/version...  \n",
       "128908  https://lopezobrador.org.mx/2020/02/24/version...  \n",
       "128904  https://lopezobrador.org.mx/2020/02/24/version...  "
      ]
     },
     "execution_count": 189,
     "metadata": {},
     "output_type": "execute_result"
    }
   ],
   "source": [
    "content = [extract_info(article) for article in all_articles]\n",
    "content = pd.DataFrame(content)\n",
    "content = content.set_index(\"id\")\n",
    "content.head()"
   ]
  },
  {
   "cell_type": "code",
   "execution_count": 190,
   "metadata": {},
   "outputs": [
    {
     "data": {
      "text/plain": [
       "array(['by\\xa0raul'], dtype=object)"
      ]
     },
     "execution_count": 190,
     "metadata": {},
     "output_type": "execute_result"
    }
   ],
   "source": [
    "content.author.unique()"
   ]
  },
  {
   "cell_type": "code",
   "execution_count": 191,
   "metadata": {},
   "outputs": [
    {
     "data": {
      "text/plain": [
       "id\n",
       "129025    Versión estenográfica de la conferencia de pre...\n",
       "128982    Versión estenográfica de la conferencia de pre...\n",
       "128954    Versión estenográfica de la conferencia de pre...\n",
       "128908    Versión estenográfica. Día de la Bandera, en C...\n",
       "128904    Versión estenográfica de la conferencia de pre...\n",
       "Name: title, dtype: object"
      ]
     },
     "execution_count": 191,
     "metadata": {},
     "output_type": "execute_result"
    }
   ],
   "source": [
    "content.title.head()"
   ]
  },
  {
   "cell_type": "code",
   "execution_count": 192,
   "metadata": {},
   "outputs": [
    {
     "data": {
      "text/plain": [
       "id\n",
       "129025   2020-02-01\n",
       "128982   2020-02-01\n",
       "128954   2020-02-01\n",
       "128908   2020-02-01\n",
       "128904   2020-02-01\n",
       "            ...    \n",
       "120381   2019-08-01\n",
       "120362   2019-08-01\n",
       "120332   2019-08-01\n",
       "120310   2019-08-01\n",
       "120292   2019-08-01\n",
       "Name: date, Length: 300, dtype: datetime64[ns]"
      ]
     },
     "execution_count": 192,
     "metadata": {},
     "output_type": "execute_result"
    }
   ],
   "source": [
    "content[\"date\"].astype(\"datetime64[M]\")"
   ]
  },
  {
   "cell_type": "code",
   "execution_count": 193,
   "metadata": {},
   "outputs": [
    {
     "data": {
      "text/plain": [
       "<matplotlib.axes._subplots.AxesSubplot at 0x127d60890>"
      ]
     },
     "execution_count": 193,
     "metadata": {},
     "output_type": "execute_result"
    },
    {
     "data": {
      "image/png": "[encoded data removed]",
      "text/plain": [
       "<Figure size 432x288 with 1 Axes>"
      ]
     },
     "metadata": {
      "needs_background": "light"
     },
     "output_type": "display_data"
    }
   ],
   "source": [
    "(content.assign(month=content[\"date\"].astype(\"datetime64[M]\"))\n",
    "        .groupby(\"month\")[\"url\"]\n",
    "        .count()).plot()"
   ]
  },
  {
   "cell_type": "markdown",
   "metadata": {},
   "source": [
    "## Analizando conferencias"
   ]
  },
  {
   "cell_type": "code",
   "execution_count": 203,
   "metadata": {},
   "outputs": [
    {
     "name": "stdout",
     "output_type": "stream",
     "text": [
      "https://lopezobrador.org.mx/2020/02/27/version-estenografica-de-la-conferencia-de-prensa-matutina-del-presidente-andres-manuel-lopez-obrador-265/\n"
     ]
    }
   ],
   "source": [
    "transcript_url = content.loc[\"129025\", \"url\"]\n",
    "print(transcript_url)"
   ]
  },
  {
   "cell_type": "code",
   "execution_count": 200,
   "metadata": {},
   "outputs": [],
   "source": [
    "with HTMLSession() as sess:\n",
    "    r = sess.get(transcript_url)"
   ]
  },
  {
   "cell_type": "code",
   "execution_count": 267,
   "metadata": {},
   "outputs": [],
   "source": [
    "transcript = r.html.find(\"div[class='entry-content']\", first=True)"
   ]
  },
  {
   "cell_type": "markdown",
   "metadata": {},
   "source": [
    "**Escribir un regex que encuentre todas las preguntas realizadas**"
   ]
  },
  {
   "cell_type": "code",
   "execution_count": null,
   "metadata": {},
   "outputs": [],
   "source": [
    "regexp = re.compile(\"¿[^\\?]+\\?\")\n",
    "regexp.findall(transcript.text)"
   ]
  },
  {
   "cell_type": "code",
   "execution_count": 314,
   "metadata": {},
   "outputs": [],
   "source": [
    "a = \"esto es\""
   ]
  },
  {
   "cell_type": "code",
   "execution_count": 315,
   "metadata": {},
   "outputs": [],
   "source": [
    "a += \"un texto\""
   ]
  },
  {
   "cell_type": "code",
   "execution_count": 316,
   "metadata": {},
   "outputs": [
    {
     "data": {
      "text/plain": [
       "'esto esun texto'"
      ]
     },
     "execution_count": 316,
     "metadata": {},
     "output_type": "execute_result"
    }
   ],
   "source": [
    "a"
   ]
  },
  {
   "cell_type": "code",
   "execution_count": 408,
   "metadata": {},
   "outputs": [],
   "source": [
    "narrativas = []\n",
    "curr_text = \"\"\n",
    "\n",
    "for p in transcript.find(\"p\")[1:-1]:\n",
    "    is_new_speaker = len(p.find(\"strong\")) != 0\n",
    "    if is_new_speaker:\n",
    "        narrativas.append(unidecode(curr_text))\n",
    "        curr_text = p.text\n",
    "    else:\n",
    "        curr_text += f\" {p.text}\""
   ]
  },
  {
   "cell_type": "code",
   "execution_count": 409,
   "metadata": {},
   "outputs": [],
   "source": [
    "from collections import defaultdict"
   ]
  },
  {
   "cell_type": "code",
   "execution_count": 410,
   "metadata": {},
   "outputs": [],
   "source": [
    "default = defaultdict(list)"
   ]
  },
  {
   "cell_type": "code",
   "execution_count": 411,
   "metadata": {},
   "outputs": [],
   "source": [
    "dict1 = defaultdict(list)\n",
    "\n",
    "dict1[\"amlo\"].append(1)"
   ]
  },
  {
   "cell_type": "code",
   "execution_count": null,
   "metadata": {},
   "outputs": [],
   "source": [
    "regexp = re.compile(\"([A-Z ,]+)(?=:)\")\n",
    "narr = narrativas[4]\n",
    "match = regexp.search(narr)\n",
    "quien, *_ = match.groups()\n",
    "inicio, fin = match.span()\n",
    "\n",
    "narr[fin + 1:].lstrip()"
   ]
  },
  {
   "cell_type": "code",
   "execution_count": 445,
   "metadata": {},
   "outputs": [],
   "source": [
    "regexp = re.compile(\"([A-Z ,]+)(?=:)\")\n",
    "dialogos = defaultdict(list)\n",
    "\n",
    "for narrativa in narrativas[1:]:\n",
    "    match = regexp.search(narrativa)\n",
    "    if match is not None:\n",
    "        quien, *_ = match.groups()\n",
    "        quien, *_ = quien.split(\",\")\n",
    "        inicio, fin = match.span()\n",
    "        dialogo = narrativa[fin + 1:].lstrip()\n",
    "        dialogos[quien].append(dialogo)"
   ]
  },
  {
   "cell_type": "code",
   "execution_count": 448,
   "metadata": {},
   "outputs": [],
   "source": [
    "a = [1, 2, 3]\n",
    "ai, *bi =  a"
   ]
  },
  {
   "cell_type": "code",
   "execution_count": 451,
   "metadata": {},
   "outputs": [
    {
     "name": "stdout",
     "output_type": "stream",
     "text": [
      "MODERADOR\n",
      "CIPRIANO RAMIREZ\n",
      "VOZ MUJER\n",
      "VOZ HOMBRE\n",
      "MARTHA DELGADO PERALTA\n",
      "NATALIA TOLEDO PAZ\n",
      "PRESIDENTE ANDRES MANUEL LOPEZ OBRADOR\n",
      "PREGUNTA\n",
      "INTERLOCUTORA\n",
      "ESTEBAN MOCTEZUMA BARRAGAN\n",
      "INTERLOCUTOR\n"
     ]
    }
   ],
   "source": [
    "for key in dialogos.keys():\n",
    "    print(key)"
   ]
  },
  {
   "cell_type": "code",
   "execution_count": 456,
   "metadata": {},
   "outputs": [
    {
     "data": {
      "text/plain": [
       "{'MODERADOR': 10,\n",
       " 'CIPRIANO RAMIREZ': 1,\n",
       " 'VOZ MUJER': 5,\n",
       " 'VOZ HOMBRE': 2,\n",
       " 'MARTHA DELGADO PERALTA': 1,\n",
       " 'NATALIA TOLEDO PAZ': 1,\n",
       " 'PRESIDENTE ANDRES MANUEL LOPEZ OBRADOR': 36,\n",
       " 'PREGUNTA': 17,\n",
       " 'INTERLOCUTORA': 11,\n",
       " 'ESTEBAN MOCTEZUMA BARRAGAN': 6,\n",
       " 'INTERLOCUTOR': 13}"
      ]
     },
     "execution_count": 456,
     "metadata": {},
     "output_type": "execute_result"
    }
   ],
   "source": [
    "{quien: len(dialogos) for quien, dialogos in dialogos.items()}"
   ]
  }
 ],
 "metadata": {
  "kernelspec": {
   "display_name": "Python 3",
   "language": "python",
   "name": "python3"
  },
  "language_info": {
   "codemirror_mode": {
    "name": "ipython",
    "version": 3
   },
   "file_extension": ".py",
   "mimetype": "text/x-python",
   "name": "python",
   "nbconvert_exporter": "python",
   "pygments_lexer": "ipython3",
   "version": "3.6.8"
  }
 },
 "nbformat": 4,
 "nbformat_minor": 4
}
