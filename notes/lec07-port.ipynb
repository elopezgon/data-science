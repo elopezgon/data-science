{
 "cells": [
  {
   "cell_type": "markdown",
   "metadata": {
    "slideshow": {
     "slide_type": "slide"
    }
   },
   "source": [
    "<img src=\"../files/misc/logo.png\" width=300/>\n",
    "<h1 style=\"color:#872325\"> Teoría de Portafolios</h1>"
   ]
  },
  {
   "cell_type": "markdown",
   "metadata": {
    "slideshow": {
     "slide_type": "subslide"
    }
   },
   "source": [
    "### Aversión al riesgo\n",
    "<br>\n",
    "\n",
    "<font color='green'>**Conceptos relevantes**</font>\n",
    "\n",
    "* Rendimiento en exceso\n",
    "* Premio por riesgo\n",
    "* Aversión al riesgo \n",
    "* Especulación \n",
    "* Juego justo"
   ]
  },
  {
   "cell_type": "markdown",
   "metadata": {
    "slideshow": {
     "slide_type": "subslide"
    }
   },
   "source": [
    "<font color='green'>**Criterio de Media-Varianza**</font>\n",
    "\n",
    "**El portafolio A domina al B si:**\n",
    "\n",
    "$E(r_{A}) \\geq E(r_{B})$\n",
    "\n",
    "y\n",
    "\n",
    "$\\sigma_{A} \\leq \\sigma_{B}$\n",
    "\n",
    "Y al menos una desigualdad es estricta"
   ]
  },
  {
   "cell_type": "markdown",
   "metadata": {
    "slideshow": {
     "slide_type": "subslide"
    }
   },
   "source": [
    "`FUNCIÓN DE UTILIDAD`\n",
    "\n",
    "$U=E(r)-\\frac{1}{2}A\\sigma^{2}$"
   ]
  },
  {
   "cell_type": "markdown",
   "metadata": {
    "slideshow": {
     "slide_type": "slide"
    }
   },
   "source": [
    "### Matemáticas de Portafolios\n",
    "<BR>"
   ]
  },
  {
   "cell_type": "markdown",
   "metadata": {
    "slideshow": {
     "slide_type": "subslide"
    }
   },
   "source": [
    "<font color='green'>**REGLA 1**</font>\n",
    "\n",
    "El rendimiento esperado de un activo es un promedio ponderado de los rendimientos en cada uno de sus escenarios\n",
    "\n",
    "$E(r)=\\sum_{s}Pr(s)r(s)$"
   ]
  },
  {
   "cell_type": "markdown",
   "metadata": {
    "slideshow": {
     "slide_type": "subslide"
    }
   },
   "source": [
    "<font color='green'>**REGLA 2**</font>\n",
    "\n",
    "La varianza del rendimiento de un activo es el valor esperado de las desviaciones al cuadrado de cada rendimiento respecto a su media o valor esperado\n",
    "\n",
    "$\\sigma^{2}=\\sum_{s}Pr(s)([r(s)-E(r)])^{2}$\n"
   ]
  },
  {
   "cell_type": "markdown",
   "metadata": {
    "slideshow": {
     "slide_type": "subslide"
    }
   },
   "source": [
    "<font color='green'>**REGLA 3**</font>\n",
    "\n",
    "El rendimiento esperado de un portafolio es un promedio ponderado de los rendimientos esperados de los activos que lo componen\n"
   ]
  },
  {
   "cell_type": "markdown",
   "metadata": {
    "slideshow": {
     "slide_type": "subslide"
    }
   },
   "source": [
    "<font color='green'>**REGLA 4**</font>\n",
    "\n",
    "Cuando se combina un activo riesgoso con un activo libre de riesgo, la desviación estándar del portafolio es igual a la desviación estándar del activo riesgoso por su ponderación\n"
   ]
  },
  {
   "cell_type": "markdown",
   "metadata": {
    "slideshow": {
     "slide_type": "subslide"
    }
   },
   "source": [
    "<font color='green'>**REGLA 5**</font>\n",
    "\n",
    "Cuando se combinan dos activos riesgosos, la varianza del portafolio está dada por:  \n",
    "\n",
    "$\\sigma^{2}_p=w_{1}^{2}\\sigma_{1}^{2}+w_{2}^{2}\\sigma_{2}^{2}+2w_{1}w_{2}Cov(r_{1},r_{2})$"
   ]
  },
  {
   "cell_type": "markdown",
   "metadata": {
    "slideshow": {
     "slide_type": "slide"
    }
   },
   "source": [
    "### Asignación entre activo libre de riesgo y portafolio riesgoso\n",
    "<br>\n",
    "$E(r_{C})=yE(r_{P})+(1-y)r_{f}$\n",
    "\n",
    "$\\sigma_{C}=y\\sigma_{P}$\n",
    "\n",
    "Coeficiente de Sharpe:  $S=\\frac{E(r_{P})-r_{f}}{\\sigma_{P}}$   \n",
    "\n",
    "**Capital Allocation Line**\n"
   ]
  },
  {
   "cell_type": "markdown",
   "metadata": {
    "slideshow": {
     "slide_type": "slide"
    }
   },
   "source": [
    "### Tolerancia al riesgo y asignación de activos\n",
    "\n",
    "* Maximización de utilidad \n",
    "\n",
    "$y{*}=\\frac{E(r_{P})-r_{f}}{A\\sigma_{P}^{2}}$   \n",
    "\n",
    "* Aversión al riesgo y curvas de indiferencia"
   ]
  },
  {
   "cell_type": "markdown",
   "metadata": {
    "slideshow": {
     "slide_type": "slide"
    }
   },
   "source": [
    "### Portafolio óptimo riesgoso\n",
    "\n",
    "* Rendimiento esperado y riesgo del portafolio \n",
    "* Portafolio de mínima varianza \n",
    "\n",
    "![Optimal%20Portfolio.PNG](../files/lec07/Optimal%20Portfolio.PNG)"
   ]
  },
  {
   "cell_type": "markdown",
   "metadata": {
    "slideshow": {
     "slide_type": "slide"
    }
   },
   "source": [
    "### Modelo de Markowitz\n",
    "\n",
    "* Generalización a *n* activos riesgosos y un activo libre de riesgo\n",
    "\n",
    "![Portf1.PNG](../files/lec07/Portf1.PNG)\n",
    "\n",
    "![Portf2.PNG](../files/lec07/Portf2.PNG)\n",
    "\n",
    "![Portf3.PNG](../files/lec07/Portf3.PNG)"
   ]
  },
  {
   "cell_type": "markdown",
   "metadata": {
    "slideshow": {
     "slide_type": "slide"
    }
   },
   "source": [
    "# Modelos de Valuación de Acciones"
   ]
  },
  {
   "cell_type": "markdown",
   "metadata": {
    "slideshow": {
     "slide_type": "slide"
    }
   },
   "source": [
    "## Capital Asset Pricing Model  (CAPM) \n",
    "\n",
    "* Supuestos \n",
    "\n",
    "* **Security Market Line**:    $E(r_{A})=r_{f}+\\beta_{A}[E(r_{M})-r_{f})$\n",
    "\n",
    "\n",
    "![ALFAA%202.PNG](../files/lec07/ALFAA%202.PNG)\n",
    "\n",
    "## Modelos Multifactoriales\n",
    "\n",
    "* Factores"
   ]
  },
  {
   "cell_type": "markdown",
   "metadata": {
    "slideshow": {
     "slide_type": "slide"
    }
   },
   "source": [
    "## Modelos de Valuación Absoluta\n",
    "\n",
    "* Modelo de Dividendos Descontados \n",
    "* Modelo de Flujos Descontados \n",
    "\n",
    "![ALFAA%203.PNG](../files/lec07/ALFAA%203.PNG)\n",
    "\n",
    "![ALFAA5.PNG](../files/lec07/ALFAA5.PNG)\n",
    "\n"
   ]
  },
  {
   "cell_type": "markdown",
   "metadata": {
    "slideshow": {
     "slide_type": "slide"
    }
   },
   "source": [
    "## Modelos de Valuación Relativa  \n",
    "\n",
    "* Múltiplos \n",
    "\n",
    "![ALFAA4.PNG](../files/lec07/ALFAA4.PNG)"
   ]
  },
  {
   "cell_type": "markdown",
   "metadata": {
    "slideshow": {
     "slide_type": "slide"
    }
   },
   "source": [
    "\n",
    "![ALFAA6.PNG](../files/lec07/ALFAA6.PNG)"
   ]
  }
 ],
 "metadata": {
  "celltoolbar": "Slideshow",
  "kernelspec": {
   "display_name": "Python 3",
   "language": "python",
   "name": "python3"
  },
  "language_info": {
   "codemirror_mode": {
    "name": "ipython",
    "version": 3
   },
   "file_extension": ".py",
   "mimetype": "text/x-python",
   "name": "python",
   "nbconvert_exporter": "python",
   "pygments_lexer": "ipython3",
   "version": "3.7.6"
  }
 },
 "nbformat": 4,
 "nbformat_minor": 2
}
